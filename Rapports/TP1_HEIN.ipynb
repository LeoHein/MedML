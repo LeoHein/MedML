{
 "cells": [
  {
   "cell_type": "code",
   "execution_count": 1,
   "id": "4fd87093-6118-4476-91a5-86bb17b8942b",
   "metadata": {},
   "outputs": [],
   "source": [
    "import pandas as pd\n",
    "import graphviz\n",
    "import numpy as np\n",
    "\n",
    "from sklearn import tree\n",
    "from sklearn.ensemble import RandomForestClassifier\n",
    "from sklearn.model_selection import cross_val_score\n",
    "from sklearn.metrics import accuracy_score"
   ]
  },
  {
   "cell_type": "code",
   "execution_count": 2,
   "id": "207ef6a1-9c09-4274-8423-01175a056023",
   "metadata": {},
   "outputs": [],
   "source": [
    "# Data import\n",
    "data_diabetes = pd.read_table('patients_data.txt', sep='\\t',header=None)\n",
    "classes_diabetes = pd.read_table('patients_classes.txt', sep='\\t',header=None)"
   ]
  },
  {
   "cell_type": "code",
   "execution_count": 3,
   "id": "b8563593-bfcb-476a-8e13-3607aaef6073",
   "metadata": {},
   "outputs": [],
   "source": [
    "# Decision Trees\n",
    "clf = tree.DecisionTreeClassifier()\n",
    "score_tree = cross_val_score(clf, data_diabetes, classes_diabetes, cv=5).mean()"
   ]
  },
  {
   "cell_type": "code",
   "execution_count": 4,
   "id": "13f4b5ce-0eb8-4dc2-b539-29df63307588",
   "metadata": {},
   "outputs": [
    {
     "data": {
      "text/plain": [
       "'diabetes remission.pdf'"
      ]
     },
     "execution_count": 4,
     "metadata": {},
     "output_type": "execute_result"
    }
   ],
   "source": [
    "# Tree Visualization\n",
    "clf = clf.fit(data_diabetes, classes_diabetes)\n",
    "feature_names = ['age', 'hba1c', 'insuline taken', 'other drugs taken']\n",
    "classes = ['DR', 'NDR']\n",
    "dot_data = tree.export_graphviz(clf, out_file=None,\n",
    "    feature_names=feature_names,\n",
    "    class_names=classes,\n",
    "    filled=True,\n",
    "    rounded=True,\n",
    "    special_characters=True)\n",
    "graph = graphviz.Source(dot_data)\n",
    "graph.render(\"diabetes remission\")"
   ]
  },
  {
   "cell_type": "code",
   "execution_count": 5,
   "id": "e94b608f-f7e5-4292-9ca7-5dabe1a33d38",
   "metadata": {},
   "outputs": [],
   "source": [
    "# Random Forest\n",
    "clf = RandomForestClassifier(max_depth=2, random_state=0)\n",
    "score_forest = cross_val_score(clf, data_diabetes, np.ravel(classes_diabetes,), cv=5).mean()"
   ]
  },
  {
   "cell_type": "code",
   "execution_count": 6,
   "id": "eab272d6-0252-4185-9c39-27c0722cbeb3",
   "metadata": {},
   "outputs": [],
   "source": [
    "# DiaRem\n",
    "df = data_diabetes\n",
    "df.columns = ['Age', 'Hba', 'Drugs', 'Treatment']\n",
    "n = [0] * df.shape[0]\n",
    "df['score'] = n\n",
    "df['pred_remission'] = n\n",
    "\n",
    "df.loc[(df['Age'] >= 40) & (df['Age']) < 50, 'score'] += 1\n",
    "df.loc[(df['Age'] >= 50) & (df['Age']) < 60, 'score'] += 2\n",
    "df.loc[(df['Age'] >= 60), 'score'] += 3\n",
    "df.loc[(df['Hba'] >= 6.5) & (df['Hba'] < 7.0), 'score'] += 2\n",
    "df.loc[(df['Hba'] >= 7.0) & (df['Hba'] < 9), 'score'] += 4\n",
    "df.loc[df['Hba'] >= 9.0, 'score'] += 6\n",
    "df.loc[df['Drugs'] == 1, 'score'] += 3\n",
    "df.loc[df['Treatment'] == 1, 'score'] += 10\n",
    "\n",
    "df.loc[df['score'] >= 7, 'pred_remission'] = 1\n",
    "y_pred = df['pred_remission']"
   ]
  },
  {
   "cell_type": "code",
   "execution_count": 7,
   "id": "133dc252-bdb3-461e-a1c3-26f3c213f095",
   "metadata": {},
   "outputs": [
    {
     "name": "stdout",
     "output_type": "stream",
     "text": [
      "Decision Trees accuracy is 0.6849999999999999\n",
      "Random Forest accuracy is 0.775\n",
      "DiaRem method accuracy is 0.605\n"
     ]
    }
   ],
   "source": [
    "# Results\n",
    "print(\"Decision Trees accuracy is \" + str(score_tree))\n",
    "print(\"Random Forest accuracy is \" + str(score_forest))\n",
    "print(\"DiaRem method accuracy is \" + str(accuracy_score(classes_diabetes, y_pred)))"
   ]
  },
  {
   "cell_type": "markdown",
   "id": "231bbcaa-08a9-4742-8581-29e3ab592b4f",
   "metadata": {
    "tags": []
   },
   "source": [
    "# Conclusion\n",
    "\n",
    "After a few experiments making use of the cross validation, we can conclude that the predictive power of the three models can be ranked quite easily. In most of the prediction experiments, the Random Forest accuracy is the highest (around 0.77), while the lowest is the DiaRem one (around 0.6). Between those two is the Decision Trees accuracy (around 0.66). It highlights the power of machine learning methods as we just showed that they beat quite significantly state-of-the-art methods based on categorization, with very few training data available. We yet can observe that the gap between the Decision Trees method and the Random Forest method is in most of experiments higher than the one between DiaRem and Decision Trees."
   ]
  }
 ],
 "metadata": {
  "kernelspec": {
   "display_name": "Python 3",
   "language": "python",
   "name": "python3"
  },
  "language_info": {
   "codemirror_mode": {
    "name": "ipython",
    "version": 3
   },
   "file_extension": ".py",
   "mimetype": "text/x-python",
   "name": "python",
   "nbconvert_exporter": "python",
   "pygments_lexer": "ipython3",
   "version": "3.8.10"
  }
 },
 "nbformat": 4,
 "nbformat_minor": 5
}
